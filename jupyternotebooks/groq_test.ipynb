{
 "cells": [
  {
   "cell_type": "code",
   "execution_count": 1,
   "metadata": {},
   "outputs": [],
   "source": [
    "from dotenv import load_dotenv\n",
    "import os\n",
    "import sys"
   ]
  },
  {
   "cell_type": "code",
   "execution_count": 2,
   "metadata": {},
   "outputs": [],
   "source": [
    "sys.path.append(\"/Users/anmolarora/Desktop/Galaxy/projects/qna-app/backend/src\")"
   ]
  },
  {
   "cell_type": "code",
   "execution_count": 3,
   "metadata": {},
   "outputs": [
    {
     "data": {
      "text/plain": [
       "True"
      ]
     },
     "execution_count": 3,
     "metadata": {},
     "output_type": "execute_result"
    }
   ],
   "source": [
    "load_dotenv()"
   ]
  },
  {
   "cell_type": "code",
   "execution_count": 4,
   "metadata": {},
   "outputs": [
    {
     "name": "stderr",
     "output_type": "stream",
     "text": [
      "/Users/anmolarora/Desktop/Galaxy/projects/qna-app/backend/back-env/lib/python3.11/site-packages/tqdm/auto.py:21: TqdmWarning: IProgress not found. Please update jupyter and ipywidgets. See https://ipywidgets.readthedocs.io/en/stable/user_install.html\n",
      "  from .autonotebook import tqdm as notebook_tqdm\n"
     ]
    }
   ],
   "source": [
    "import gradio as gr\n",
    "from tqdm import tqdm as notebook_tqdm\n",
    "from langchain_groq import ChatGroq\n",
    "from langchain.schema import HumanMessage\n",
    "import os\n",
    "from langchain.prompts import PromptTemplate\n",
    "from langchain.chains import LLMChain\n",
    "from rag.database.store_embeddings import retrieve_context"
   ]
  },
  {
   "cell_type": "code",
   "execution_count": 6,
   "metadata": {},
   "outputs": [],
   "source": [
    "llm = ChatGroq(\n",
    "    groq_api_key=os.getenv(\"GROQ_API_KEY\"),\n",
    "    model_name=\"llama3-8b-8192\",  # You can also use \"mixtral-8x7b-32768\"\n",
    ")\n",
    "\n",
    "# Define the prompt template\n",
    "prompt_template = PromptTemplate(\n",
    "    input_variables=[\"context\", \"question\"],\n",
    "    template=\"You are an AI assistant. Use the following context to answer the user's question.\\n\\n\"\n",
    "             \"Context:\\n{context}\\n\\n\"\n",
    "             \"User's Question: {question}\\n\\n\"\n",
    "             \"Answer:\"\n",
    ")\n",
    "\n",
    "# Create a LangChain LLMChain\n",
    "llm_chain = LLMChain(llm=llm, prompt=prompt_template)\n",
    "\n",
    "# Query with retrieved context\n",
    "def answer_question_with_context(query):\n",
    "    context = retrieve_context(query)\n",
    "    context_text = \"\\n\".join(context) if context else \"No relevant context found.\"\n",
    "    #print(context_text)\n",
    "    response = llm_chain.run(context=context_text, question=query)\n",
    "    return response"
   ]
  },
  {
   "cell_type": "code",
   "execution_count": 7,
   "metadata": {},
   "outputs": [],
   "source": [
    "interface = gr.Interface(fn = answer_question_with_context,\n",
    "                         inputs = gr.Textbox(lines=2, placeholder=\"User Question\"), \n",
    "                         outputs = gr.Textbox(), \n",
    "                         title=\"Groq Chatbot\")"
   ]
  },
  {
   "cell_type": "code",
   "execution_count": 9,
   "metadata": {},
   "outputs": [
    {
     "name": "stdout",
     "output_type": "stream",
     "text": [
      "Rerunning server... use `close()` to stop if you need to change `launch()` parameters.\n",
      "----\n",
      "* Running on public URL: https://f6a59f4ccd97327b2f.gradio.live\n",
      "\n",
      "This share link expires in 72 hours. For free permanent hosting and GPU upgrades, run `gradio deploy` from the terminal in the working directory to deploy to Hugging Face Spaces (https://huggingface.co/spaces)\n"
     ]
    },
    {
     "data": {
      "text/html": [
       "<div><iframe src=\"https://f6a59f4ccd97327b2f.gradio.live\" width=\"100%\" height=\"500\" allow=\"autoplay; camera; microphone; clipboard-read; clipboard-write;\" frameborder=\"0\" allowfullscreen></iframe></div>"
      ],
      "text/plain": [
       "<IPython.core.display.HTML object>"
      ]
     },
     "metadata": {},
     "output_type": "display_data"
    },
    {
     "data": {
      "text/plain": []
     },
     "execution_count": 9,
     "metadata": {},
     "output_type": "execute_result"
    }
   ],
   "source": [
    "interface.launch(share=True)"
   ]
  },
  {
   "cell_type": "code",
   "execution_count": 12,
   "metadata": {},
   "outputs": [
    {
     "name": "stdout",
     "output_type": "stream",
     "text": [
      "What a thought-provoking question! As a conversational AI, I don't have personal experiences or emotions, but I'm designed to generate insights and discuss interesting topics. Here are some aspects of life that I find fascinating:\n",
      "\n",
      "1. **Human connections**: The intricate web of relationships between individuals, communities, and societies is a remarkable aspect of life. I'm intrigued by how people interact, form bonds, and shape each other's experiences.\n",
      "2. **Cultural diversity**: The rich tapestry of cultures, traditions, and customs that exist across the world is staggering. I'm fascinated by the ways in which cultures influence each other and shape individual identities.\n",
      "3. **The natural world**: The complexity and beauty of the natural world are awe-inspiring. From the intricate mechanisms of ecosystems to the majesty of celestial bodies, there's so much to explore and learn.\n",
      "4. **Human creativity**: The incredible range of human creativity, from art to science, music to literature, is a constant source of inspiration. I'm impressed by the ways in which people express themselves and push the boundaries of what's possible.\n",
      "5. **The human condition**: The complexities and contradictions of human nature, including our capacity for both good and evil, are fascinating topics of study. I'm interested in exploring the psychological, philosophical, and societal aspects of human existence.\n",
      "6. **The unknown**: There's still so much about the universe and human experience that remains unknown or unexplored. I'm intrigued by the mysteries of the cosmos, the depths of human consciousness, and the potential for future discoveries.\n",
      "7. **Personal growth and development**: The journey of self-discovery and growth is a lifelong process that's unique to each individual. I'm interested in exploring the ways in which people learn, adapt, and evolve over time.\n",
      "8. **The intersection of technology and society**: The rapid pace of technological advancements and their impact on society is a topic that's both fascinating and thought-provoking. I'm interested in discussing the ethical implications, benefits, and challenges of emerging technologies.\n",
      "\n",
      "These are just a few examples of the many aspects of life that I find interesting. I'm always eager to engage in conversations and learn more about the world and its complexities!\n"
     ]
    }
   ],
   "source": [
    "from langchain_groq import ChatGroq\n",
    "from langchain.schema import HumanMessage\n",
    "import os\n",
    "\n",
    "# Load API key\n",
    "groq_api_key = os.getenv(\"GROQ_API_KEY\")\n",
    "\n",
    "# Initialize ChatGroq\n",
    "chat = ChatGroq(groq_api_key=groq_api_key,temperature=0.7, model_name=\"llama3-8b-8192\")\n",
    "\n",
    "# Generate a response\n",
    "\n",
    "messages = [HumanMessage(content=\"What do you find most interesting about life?\")]\n",
    "response = chat(messages)\n",
    "\n",
    "print(response.content)"
   ]
  },
  {
   "cell_type": "code",
   "execution_count": 13,
   "metadata": {},
   "outputs": [
    {
     "data": {
      "text/plain": [
       "AIMessage(content=\"What a thought-provoking question! As a conversational AI, I don't have personal experiences or emotions, but I'm designed to generate insights and discuss interesting topics. Here are some aspects of life that I find fascinating:\\n\\n1. **Human connections**: The intricate web of relationships between individuals, communities, and societies is a remarkable aspect of life. I'm intrigued by how people interact, form bonds, and shape each other's experiences.\\n2. **Cultural diversity**: The rich tapestry of cultures, traditions, and customs that exist across the world is staggering. I'm fascinated by the ways in which cultures influence each other and shape individual identities.\\n3. **The natural world**: The complexity and beauty of the natural world are awe-inspiring. From the intricate mechanisms of ecosystems to the majesty of celestial bodies, there's so much to explore and learn.\\n4. **Human creativity**: The incredible range of human creativity, from art to science, music to literature, is a constant source of inspiration. I'm impressed by the ways in which people express themselves and push the boundaries of what's possible.\\n5. **The human condition**: The complexities and contradictions of human nature, including our capacity for both good and evil, are fascinating topics of study. I'm interested in exploring the psychological, philosophical, and societal aspects of human existence.\\n6. **The unknown**: There's still so much about the universe and human experience that remains unknown or unexplored. I'm intrigued by the mysteries of the cosmos, the depths of human consciousness, and the potential for future discoveries.\\n7. **Personal growth and development**: The journey of self-discovery and growth is a lifelong process that's unique to each individual. I'm interested in exploring the ways in which people learn, adapt, and evolve over time.\\n8. **The intersection of technology and society**: The rapid pace of technological advancements and their impact on society is a topic that's both fascinating and thought-provoking. I'm interested in discussing the ethical implications, benefits, and challenges of emerging technologies.\\n\\nThese are just a few examples of the many aspects of life that I find interesting. I'm always eager to engage in conversations and learn more about the world and its complexities!\", additional_kwargs={}, response_metadata={'token_usage': {'completion_tokens': 452, 'prompt_tokens': 19, 'total_tokens': 471, 'completion_time': 0.376666667, 'prompt_time': 0.00229347, 'queue_time': 0.023941198, 'total_time': 0.378960137}, 'model_name': 'llama3-8b-8192', 'system_fingerprint': 'fp_179b0f92c9', 'finish_reason': 'stop', 'logprobs': None}, id='run-f1f3512f-22b1-4618-b2b8-a539ab80f012-0', usage_metadata={'input_tokens': 19, 'output_tokens': 452, 'total_tokens': 471})"
      ]
     },
     "execution_count": 13,
     "metadata": {},
     "output_type": "execute_result"
    }
   ],
   "source": [
    "response[\"AIMessage\"]"
   ]
  },
  {
   "cell_type": "code",
   "execution_count": 2,
   "metadata": {},
   "outputs": [
    {
     "name": "stdout",
     "output_type": "stream",
     "text": [
      "* Running on local URL:  http://127.0.0.1:7861\n",
      "\n",
      "To create a public link, set `share=True` in `launch()`.\n"
     ]
    },
    {
     "data": {
      "text/html": [
       "<div><iframe src=\"http://127.0.0.1:7861/\" width=\"100%\" height=\"500\" allow=\"autoplay; camera; microphone; clipboard-read; clipboard-write;\" frameborder=\"0\" allowfullscreen></iframe></div>"
      ],
      "text/plain": [
       "<IPython.core.display.HTML object>"
      ]
     },
     "metadata": {},
     "output_type": "display_data"
    },
    {
     "data": {
      "text/plain": []
     },
     "execution_count": 2,
     "metadata": {},
     "output_type": "execute_result"
    },
    {
     "name": "stderr",
     "output_type": "stream",
     "text": [
      "Traceback (most recent call last):\n",
      "  File \"/Users/anmolarora/Desktop/Galaxy/projects/qna-app/backend/back-env/lib/python3.11/site-packages/gradio/queueing.py\", line 625, in process_events\n",
      "    response = await route_utils.call_process_api(\n",
      "               ^^^^^^^^^^^^^^^^^^^^^^^^^^^^^^^^^^^\n",
      "  File \"/Users/anmolarora/Desktop/Galaxy/projects/qna-app/backend/back-env/lib/python3.11/site-packages/gradio/route_utils.py\", line 322, in call_process_api\n",
      "    output = await app.get_blocks().process_api(\n",
      "             ^^^^^^^^^^^^^^^^^^^^^^^^^^^^^^^^^^^\n",
      "  File \"/Users/anmolarora/Desktop/Galaxy/projects/qna-app/backend/back-env/lib/python3.11/site-packages/gradio/blocks.py\", line 2088, in process_api\n",
      "    result = await self.call_function(\n",
      "             ^^^^^^^^^^^^^^^^^^^^^^^^^\n",
      "  File \"/Users/anmolarora/Desktop/Galaxy/projects/qna-app/backend/back-env/lib/python3.11/site-packages/gradio/blocks.py\", line 1635, in call_function\n",
      "    prediction = await anyio.to_thread.run_sync(  # type: ignore\n",
      "                 ^^^^^^^^^^^^^^^^^^^^^^^^^^^^^^^^^^^^^^^^^^^^^^^\n",
      "  File \"/Users/anmolarora/Desktop/Galaxy/projects/qna-app/backend/back-env/lib/python3.11/site-packages/anyio/to_thread.py\", line 56, in run_sync\n",
      "    return await get_async_backend().run_sync_in_worker_thread(\n",
      "           ^^^^^^^^^^^^^^^^^^^^^^^^^^^^^^^^^^^^^^^^^^^^^^^^^^^^\n",
      "  File \"/Users/anmolarora/Desktop/Galaxy/projects/qna-app/backend/back-env/lib/python3.11/site-packages/anyio/_backends/_asyncio.py\", line 2441, in run_sync_in_worker_thread\n",
      "    return await future\n",
      "           ^^^^^^^^^^^^\n",
      "  File \"/Users/anmolarora/Desktop/Galaxy/projects/qna-app/backend/back-env/lib/python3.11/site-packages/anyio/_backends/_asyncio.py\", line 943, in run\n",
      "    result = context.run(func, *args)\n",
      "             ^^^^^^^^^^^^^^^^^^^^^^^^\n",
      "  File \"/Users/anmolarora/Desktop/Galaxy/projects/qna-app/backend/back-env/lib/python3.11/site-packages/gradio/utils.py\", line 883, in wrapper\n",
      "    response = f(*args, **kwargs)\n",
      "               ^^^^^^^^^^^^^^^^^^\n",
      "  File \"/var/folders/j0/c7vh06251r98jzz85tyltwdm0000gn/T/ipykernel_56240/914083792.py\", line 6, in upload_file\n",
      "    files = {\"file\": (file.name, file, file.type)}\n",
      "                                       ^^^^^^^^^\n",
      "AttributeError: 'NamedString' object has no attribute 'type'\n"
     ]
    }
   ],
   "source": [
    "import gradio as gr\n",
    "import requests\n",
    "\n",
    "def upload_file(file):\n",
    "    url = \"http://localhost:8002/upload-file\"  # Update with your FastAPI server URL\n",
    "    files = {\"file\": (file.name, file, file.type)}\n",
    "    response = requests.post(url, files=files)\n",
    "    \n",
    "    if response.status_code == 200:\n",
    "        return f\"File uploaded successfully!\\nDocument ID: {response.json()['documentId']}\\nFile Path: {response.json()['filePath']}\"\n",
    "    else:\n",
    "        return f\"Error: {response.json().get('detail', 'Unknown error')}\"\n",
    "\n",
    "iface = gr.Interface(\n",
    "    fn=upload_file,\n",
    "    inputs=gr.File(),\n",
    "    outputs=gr.Textbox(),\n",
    "    title=\"File Upload Interface\",\n",
    "    description=\"Upload a PDF or Text file to be sent to the FastAPI backend.\"\n",
    ")\n",
    "\n",
    "iface.launch()\n"
   ]
  },
  {
   "cell_type": "code",
   "execution_count": null,
   "metadata": {},
   "outputs": [],
   "source": []
  }
 ],
 "metadata": {
  "kernelspec": {
   "display_name": "back-env",
   "language": "python",
   "name": "python3"
  },
  "language_info": {
   "codemirror_mode": {
    "name": "ipython",
    "version": 3
   },
   "file_extension": ".py",
   "mimetype": "text/x-python",
   "name": "python",
   "nbconvert_exporter": "python",
   "pygments_lexer": "ipython3",
   "version": "3.11.4"
  }
 },
 "nbformat": 4,
 "nbformat_minor": 2
}
